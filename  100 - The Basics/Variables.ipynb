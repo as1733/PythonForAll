{
 "cells": [
  {
   "cell_type": "markdown",
   "source": [
    "# 101 - Fundamentions\n",
    "### Relevant Audience - Someone who is starting with python\n",
    "## The Notebook as following Sections\n",
    "1. Variables\n",
    "  1. Number eg - 1 ,2  ,2.34 etc\n",
    "  2. String eg - \"aditya\",\"example\" , etc\n",
    "  3. List   eg - [1,2,3,4]\n",
    "  4. Dictionary eg - {\"name\":\"Aditya\"}\n",
    "  5. Tuple eg - (1,2,3)\n",
    "  6. None\n",
    "2. Conditional Statements\n",
    "  1. If\n",
    "  2. If.. else\n",
    "  3. If.. elif.. else\n",
    "3. Loops\n",
    "  1. For Loop\n",
    "  2. While Loop\n",
    "4. Functions\n",
    "  1. Lambda\n",
    "  2. Return type\n",
    "5. Class\n",
    "6. Reading a docstring\n",
    "\n",
    "## The Notebook aims at providing the fundamentals of the python programming\n",
    "\n"
   ],
   "metadata": {
    "collapsed": false
   }
  },
  {
   "cell_type": "markdown",
   "source": [
    "# Variables\n",
    "### Number\n",
    "Any number ,integer or decimal can be stored directly into a variable and it supports\n",
    "all kinds of fundamental alegbra"
   ],
   "metadata": {
    "collapsed": false,
    "pycharm": {
     "name": "#%% md\n"
    }
   },
   "execution_count": 5
  },
  {
   "cell_type": "code",
   "execution_count": 6,
   "outputs": [
    {
     "name": "stdout",
     "output_type": "stream",
     "text": [
      "x =10 y=10\n",
      "a (x+y) = 12.5\n",
      "b (x/y) = 4.0\n",
      "c (x*y) = 25.0\n",
      "d (x-y) = 7.5\n"
     ]
    }
   ],
   "source": [
    "x= 10\n",
    "y= 2.5\n",
    "\n",
    "## store the sum of x + y in a\n",
    "a= x+y\n",
    "## store the sum of x / y in b\n",
    "b= x/y\n",
    "##\n",
    "## store the sum of x * y in c\n",
    "c= x*y\n",
    "##\n",
    "## store the sum of x - y in d\n",
    "d= x-y\n",
    "##\n",
    "print(f\"x ={x} y={x}\")\n",
    "print(f\"a (x+y) = {a}\")\n",
    "print(f\"b (x/y) = {b}\")\n",
    "print(f\"c (x*y) = {c}\")\n",
    "print(f\"d (x-y) = {d}\")"
   ],
   "metadata": {
    "collapsed": false,
    "pycharm": {
     "name": "#%%\n"
    }
   }
  },
  {
   "cell_type": "markdown",
   "source": [
    "### Strings\n",
    "\n",
    "The strings are numbered / indexed from 0\n",
    "\n",
    "* These variables have functions liks\n",
    "  * **len()** to get the length of string\n",
    "  * **find()** to check if a substring is present in word\n",
    "  * **upper()** to change word to UPPER Case\n",
    "  * **lower()** to change word to LOWER case\n",
    "  * **split()** to split word at given word / pattern\n",
    "  * **join()** to combine multiple words together\n",
    "  * **replace()** to replace a word or pattern with another\n",
    "\n"
   ],
   "metadata": {
    "collapsed": false,
    "pycharm": {
     "name": "#%% md\n"
    }
   },
   "outputs": [
    {
     "name": "stdout",
     "output_type": "stream",
     "text": [
      "Aditya101a\n",
      "Word 'dit' is present in Aditya starting from 1\n",
      "Word 'tim' is absent in Aditya therefore starting position is negative -1\n"
     ]
    }
   ],
   "execution_count": 7
  },
  {
   "cell_type": "code",
   "execution_count": 15,
   "outputs": [
    {
     "name": "stdout",
     "output_type": "stream",
     "text": [
      "Aditya101a\n",
      "Word 'it' is present in Aditya starting from 2\n",
      "Word 'tim' is absent in Aditya therefore starting position is negative -1\n",
      "Name in Upper Case ADITYA\n",
      "Name in lower Case aditya\n",
      "Using split we can break sentence into words\n",
      "['Hi', 'How', 'are', 'you', '?']\n",
      "Using join we can concat words using the string used here i used '_'\n",
      "Hi_How_are_you_?\n",
      "Using replace we can replace words using another string\n",
      "Hello How are you ?\n"
     ]
    }
   ],
   "source": [
    "name = \"Aditya\"\n",
    "module = \"101\"\n",
    "section = \"a\"\n",
    "\n",
    "#concat words\n",
    "concat_statement= name+module+section\n",
    "print(concat_statement)\n",
    "#length of string (number of characters)\n",
    "lengthOfStatement=len(concat_statement)  ###6+3+1\n",
    "\n",
    "### finding a substring inside a string\n",
    "isWordPresent=name.find(\"it\")\n",
    "print(f\"Word 'it' is present in {name} starting from {isWordPresent}\")\n",
    "isWordPresent=name.find(\"tim\")\n",
    "print(f\"Word 'tim' is absent in {name} therefore starting position is negative {isWordPresent}\")\n",
    "nameUpper=name.upper()\n",
    "print(f\"Name in Upper Case {nameUpper}\")\n",
    "\n",
    "nameLower=name.lower()\n",
    "print(f\"Name in lower Case {nameLower}\")\n",
    "\n",
    "bigSentence = \"Hi How are you ?\"\n",
    "split_bigSentence= bigSentence.split(\" \")\n",
    "print(\"Using split we can break sentence into words\")\n",
    "print(split_bigSentence)\n",
    "\n",
    "combinedSentence = '_'.join(split_bigSentence)\n",
    "print(\"Using join we can concat words using the string used here i used '_'\")\n",
    "print(combinedSentence)\n",
    "\n",
    "#Replacing Hi with Hello\n",
    "replacedWord = bigSentence.replace(\"Hi\",\"Hello\")\n",
    "\n",
    "print(\"Using replace we can replace words using another string\")\n",
    "print(replacedWord)"
   ],
   "metadata": {
    "collapsed": false,
    "pycharm": {
     "name": "#%%\n"
    }
   }
  },
  {
   "cell_type": "markdown",
   "source": [],
   "metadata": {
    "collapsed": false
   }
  }
 ],
 "metadata": {
  "kernelspec": {
   "display_name": "Python 3",
   "language": "python",
   "name": "python3"
  },
  "language_info": {
   "codemirror_mode": {
    "name": "ipython",
    "version": 2
   },
   "file_extension": ".py",
   "mimetype": "text/x-python",
   "name": "python",
   "nbconvert_exporter": "python",
   "pygments_lexer": "ipython2",
   "version": "2.7.6"
  }
 },
 "nbformat": 4,
 "nbformat_minor": 0
}