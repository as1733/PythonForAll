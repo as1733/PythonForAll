{
 "cells": [
  {
   "cell_type": "markdown",
   "source": [
    "# 101 - Fundamentions\n",
    "### Relevant Audience - Someone who is starting with python\n",
    "## The Notebook as following Sections\n",
    "1. Variables\n",
    "  1. Number eg - 1 ,2  ,2.34 etc\n",
    "  2. String eg - \"aditya\",\"example\" , etc\n",
    "  3. List   eg - [1,2,3,4]\n",
    "  4. Dictionary eg - {\"name\":\"Aditya\"}\n",
    "  5. Tuple eg - (1,2,3)\n",
    "  6. None\n",
    "  7. Boolean\n",
    "2. Conditional Statements\n",
    "  1. If\n",
    "  2. If.. else\n",
    "  3. If.. elif.. else\n",
    "3. Loops\n",
    "  1. For Loop\n",
    "  2. While Loop\n",
    "4. Functions\n",
    "  1. Lambda\n",
    "  2. Return type\n",
    "5. Class\n",
    "6. Reading a docstring\n",
    "\n",
    "## The Notebook aims at providing the fundamentals of the python programming\n",
    "\n"
   ],
   "metadata": {
    "collapsed": false
   }
  },
  {
   "cell_type": "markdown",
   "source": [
    "# Variables\n",
    "### Number\n",
    "Any number ,integer or decimal can be stored directly into a variable and it supports\n",
    "all kinds of fundamental alegbra"
   ],
   "metadata": {
    "collapsed": false,
    "pycharm": {
     "name": "#%% md\n"
    }
   },
   "execution_count": 5
  },
  {
   "cell_type": "code",
   "execution_count": 6,
   "outputs": [
    {
     "name": "stdout",
     "output_type": "stream",
     "text": [
      "x =10 y=10\n",
      "a (x+y) = 12.5\n",
      "b (x/y) = 4.0\n",
      "c (x*y) = 25.0\n",
      "d (x-y) = 7.5\n"
     ]
    }
   ],
   "source": [
    "x= 10\n",
    "y= 2.5\n",
    "\n",
    "## store the sum of x + y in a\n",
    "a= x+y\n",
    "## store the sum of x / y in b\n",
    "b= x/y\n",
    "##\n",
    "## store the sum of x * y in c\n",
    "c= x*y\n",
    "##\n",
    "## store the sum of x - y in d\n",
    "d= x-y\n",
    "##\n",
    "print(f\"x ={x} y={x}\")\n",
    "print(f\"a (x+y) = {a}\")\n",
    "print(f\"b (x/y) = {b}\")\n",
    "print(f\"c (x*y) = {c}\")\n",
    "print(f\"d (x-y) = {d}\")"
   ],
   "metadata": {
    "collapsed": false,
    "pycharm": {
     "name": "#%%\n"
    }
   }
  },
  {
   "cell_type": "markdown",
   "source": [
    "### Strings\n",
    "\n",
    "The strings are numbered / indexed from 0\n",
    "\n",
    "* These variables have functions liks\n",
    "  * **len()** to get the length of string\n",
    "  * **find()** to check if a substring is present in word\n",
    "  * **upper()** to change word to UPPER Case\n",
    "  * **lower()** to change word to LOWER case\n",
    "  * **split()** to split word at given word / pattern\n",
    "  * **join()** to combine multiple words together\n",
    "  * **replace()** to replace a word or pattern with another\n",
    "\n"
   ],
   "metadata": {
    "collapsed": false,
    "pycharm": {
     "name": "#%% md\n"
    }
   },
   "outputs": [
    {
     "name": "stdout",
     "output_type": "stream",
     "text": [
      "Aditya101a\n",
      "Word 'dit' is present in Aditya starting from 1\n",
      "Word 'tim' is absent in Aditya therefore starting position is negative -1\n"
     ]
    }
   ],
   "execution_count": 7
  },
  {
   "cell_type": "code",
   "execution_count": 15,
   "outputs": [
    {
     "name": "stdout",
     "output_type": "stream",
     "text": [
      "Aditya101a\n",
      "Word 'it' is present in Aditya starting from 2\n",
      "Word 'tim' is absent in Aditya therefore starting position is negative -1\n",
      "Name in Upper Case ADITYA\n",
      "Name in lower Case aditya\n",
      "Using split we can break sentence into words\n",
      "['Hi', 'How', 'are', 'you', '?']\n",
      "Using join we can concat words using the string used here i used '_'\n",
      "Hi_How_are_you_?\n",
      "Using replace we can replace words using another string\n",
      "Hello How are you ?\n"
     ]
    }
   ],
   "source": [
    "name = \"Aditya\"\n",
    "module = \"101\"\n",
    "section = \"a\"\n",
    "\n",
    "#concat words\n",
    "concat_statement= name+module+section\n",
    "print(concat_statement)\n",
    "#length of string (number of characters)\n",
    "lengthOfStatement=len(concat_statement)  ###6+3+1\n",
    "\n",
    "### finding a substring inside a string\n",
    "isWordPresent=name.find(\"it\")\n",
    "print(f\"Word 'it' is present in {name} starting from {isWordPresent}\")\n",
    "isWordPresent=name.find(\"tim\")\n",
    "print(f\"Word 'tim' is absent in {name} therefore starting position is negative {isWordPresent}\")\n",
    "nameUpper=name.upper()\n",
    "print(f\"Name in Upper Case {nameUpper}\")\n",
    "\n",
    "nameLower=name.lower()\n",
    "print(f\"Name in lower Case {nameLower}\")\n",
    "\n",
    "bigSentence = \"Hi How are you ?\"\n",
    "split_bigSentence= bigSentence.split(\" \")\n",
    "print(\"Using split we can break sentence into words\")\n",
    "print(split_bigSentence)\n",
    "\n",
    "combinedSentence = '_'.join(split_bigSentence)\n",
    "print(\"Using join we can concat words using the string used here i used '_'\")\n",
    "print(combinedSentence)\n",
    "\n",
    "#Replacing Hi with Hello\n",
    "replacedWord = bigSentence.replace(\"Hi\",\"Hello\")\n",
    "\n",
    "print(\"Using replace we can replace words using another string\")\n",
    "print(replacedWord)"
   ],
   "metadata": {
    "collapsed": false,
    "pycharm": {
     "name": "#%%\n"
    }
   }
  },
  {
   "cell_type": "markdown",
   "source": [
    "### List\n",
    "An array is called list in python\n",
    "to create an list x = [1,2,3]\n",
    "\n",
    "we have the following functions available in List\n",
    " 1. **pop()** - returns the last element\n",
    " 2. **append()** - adds a new element\n",
    " 3. **remove()** - removes an element from a list\n",
    " 4. **[x]** - get element at index `x`\n",
    " 5. **len()** - get the number of elements in list\n"
   ],
   "metadata": {
    "collapsed": false
   }
  },
  {
   "cell_type": "code",
   "execution_count": 20,
   "outputs": [
    {
     "name": "stdout",
     "output_type": "stream",
     "text": [
      "Original List is [11, 2, 3, 4]\n",
      "Length of list - 4\n",
      "Element 4 was popped and \n",
      " updated list is [11, 2, 3]\n",
      "New Element was pushed updated list  - [11, 2, 3, 'Hello World']\n",
      "First element of the list 11\n",
      "Removed the element 11 Updated list [2, 3, 'Hello World']\n"
     ]
    }
   ],
   "source": [
    "x = [11,2,3,4]\n",
    "print(f\"Original List is {x}\")\n",
    "print(f\"Length of list - {len(x)}\")\n",
    "element = x.pop()\n",
    "print(f\"Element {element} was popped and \\n updated list is {x}\")\n",
    "x.append(\"Hello World\")\n",
    "print(f\"New Element was pushed updated list  - {x}\")\n",
    "print(f\"First element of the list {x[0]}\")\n",
    "elementToRemove=11\n",
    "x.remove(elementToRemove)\n",
    "print(f\"Removed the element {elementToRemove} Updated list {x}\")\n",
    "\n"
   ],
   "metadata": {
    "collapsed": false,
    "pycharm": {
     "name": "#%%\n"
    }
   }
  },
  {
   "cell_type": "markdown",
   "source": [
    "### Dictionary\n",
    "**One of the most powerful data structure in python**\n",
    " Created using `{'key':'value' }`\n",
    "\n",
    "They are analogous to **JSON** objects\n",
    "\n",
    "They are very flexible and can contain any other object or function\n",
    "\n",
    "* **keys()** to get a list of keys in the dictionary\n",
    "* **`['key']`** to access the value\n",
    "* **values()** to get a list of values in the dictionary\n",
    "\n",
    "\n",
    "\n",
    "\n"
   ],
   "metadata": {
    "collapsed": false,
    "pycharm": {
     "name": "#%% md\n"
    }
   }
  },
  {
   "cell_type": "code",
   "execution_count": 23,
   "outputs": [
    {
     "name": "stdout",
     "output_type": "stream",
     "text": [
      "{'name': 'Aditya', 'age': 23, 'marks': [10, 9, 8, 10]}\n",
      "List of the values \n",
      "dict_values(['Aditya', 23, [10, 9, 8, 10]])\n",
      "List of the Keys \n",
      "dict_keys(['name', 'age', 'marks'])\n",
      "x['name'] - Aditya\n"
     ]
    }
   ],
   "source": [
    "x= {'name':'Aditya',\n",
    "    'age':23 ,\n",
    "    'marks':[10,9,8,10]\n",
    "    }\n",
    "print(f\"{x}\")\n",
    "\n",
    "print(f\"List of the values \")\n",
    "##list of the values\n",
    "dictionaryValues = x.values()\n",
    "print(dictionaryValues)\n",
    "##List of the keys\n",
    "print(f\"List of the Keys \")\n",
    "dictionarykeys =x.keys()\n",
    "print(dictionarykeys)\n",
    "##access values  using keys\n",
    "name=x['name']\n",
    "\n",
    "print(f\"x['name'] - {name}\")\n",
    "\n"
   ],
   "metadata": {
    "collapsed": false,
    "pycharm": {
     "name": "#%%\n"
    }
   }
  },
  {
   "cell_type": "markdown",
   "source": [
    "### Tuple\n",
    "\n",
    "Tuples are like list but immutable in nature, it means\n",
    "that they cannot be changed after created once\n",
    "\n",
    "it can be created like `(2 ,2 )`\n",
    "\n",
    "\n",
    "\n"
   ],
   "metadata": {
    "collapsed": false,
    "pycharm": {
     "name": "#%% md\n"
    }
   }
  },
  {
   "cell_type": "code",
   "execution_count": 28,
   "outputs": [
    {
     "name": "stdout",
     "output_type": "stream",
     "text": [
      "Length of tuple 2\n",
      "Second element of tuple is aditya\n"
     ]
    }
   ],
   "source": [
    "x = (2,\"aditya\")\n",
    "## length of the tuple\n",
    "print(f\"Length of tuple {len(x)}\")\n",
    "\n",
    "## access first element\n",
    "print(f\"Second element of tuple is {x[1]}\")"
   ],
   "metadata": {
    "collapsed": false,
    "pycharm": {
     "name": "#%%\n"
    }
   }
  },
  {
   "cell_type": "markdown",
   "source": [
    "### Boolean\n",
    "It shows `True` and `False`\n",
    "\n",
    "It can be created as a result of comparison and are mainly used in the conditional `If ` statement\n",
    "like\n",
    "* `x>3`\n",
    "* `3!=49`\n",
    "* `True!=False`\n",
    "\n",
    "**We have operators like `and` `or` `not` available to implement boolean expressions\n",
    "\n",
    "Examples\n",
    "* `True and False` will result in `False`\n",
    "*  `20>0 and 3>-1` will result in `True`\n",
    "*  `2>3 and 1>0` will result in `False`\n",
    "*  `20>0 or 10<3` will result in `True`\n"
   ],
   "metadata": {
    "collapsed": false,
    "pycharm": {
     "name": "#%% md\n"
    }
   }
  },
  {
   "cell_type": "markdown",
   "source": [
    "### None\n",
    "It is a special reserved data type to show that a variable is null / empty , it means there is nothing available at the location of the pointer in the memory"
   ],
   "metadata": {
    "collapsed": false,
    "pycharm": {
     "name": "#%% md\n"
    }
   }
  },
  {
   "cell_type": "markdown",
   "source": [
    "# Conditional Statements\n",
    "\n",
    "**These statements are used to control the flow of the execution of the program**\n",
    "\n",
    "Different Types of conditional statement and there usage\n",
    "\n",
    "* `if <condition>`\n",
    "   * Used when you have a condition based on which 1 action has to be taken\n",
    "   ```\n",
    "  if marks>=90:\n",
    "      print(\"Achieved Grade A \")```\n",
    "* `if <condition> else`\n",
    "   * Used when you have a condition based on which **either** action has to be taken\n",
    "   ```\n",
    "   if age>=18:\n",
    "      print(\"eligible to vote in india\")\n",
    "   else:\n",
    "      print(\"Not eligible to vote in india\")```\n",
    "* `if <condition> elif <condition> else`\n",
    "   * Used when you **multiple actions available and only one** of them is needed to be executed\n",
    "   ```\n",
    "  if marks>90:\n",
    "      print(\"Grade A\")\n",
    "   elif marks>80:\n",
    "      print(\"Grade B\")\n",
    "   elif marks>70:\n",
    "      print(\"Grade C\")\n",
    "   elif marks>60:\n",
    "      print(\"Grade D\")\n",
    "   elif marks>80:\n",
    "      print(\"Grade E\")\n",
    "   else:\n",
    "      print(\"failed\")```"
   ],
   "metadata": {
    "collapsed": false,
    "pycharm": {
     "name": "#%% md\n"
    }
   }
  },
  {
   "cell_type": "markdown",
   "source": [
    "## Loops\n",
    "Consider the following situation :\n",
    "You have a list `[10,20,30,40]` and you want to know the sum\n",
    "you can do this -\n",
    "```\n",
    "x=[10,20,30,40]\n",
    "x[0]+x[1]+x[3]+x[4]\n",
    "##adding each element individually\n",
    "```\n",
    "You may think that's okay  but consider what will you do when you have 1000 elements in the list\n",
    "manually doing it is going to be tiresome and foolish\n",
    "\n",
    "so we have another method to achieve this\n",
    "### Loop\n",
    "Now in python we have two types of loops\n",
    "\n",
    " `for`\n",
    " * These repeat for a fixed number of times\n",
    "     * it can be number of element in list\n",
    "     * number of keys in a dictionary\n",
    " `while`\n",
    " * These repeat until the given condition is true\n",
    "    * It is useful in cases where you don't know the number of times you need to run the loop\n",
    "\n",
    "There are two other important concept in loops\n",
    "1. `continue`\n",
    "    * It skips the current iteration and goes to the next one\n",
    "2. `break`\n",
    "    * It can make the loop end once and for all\n",
    "\n",
    "\n",
    "\n",
    "\n"
   ],
   "metadata": {
    "collapsed": false,
    "pycharm": {
     "name": "#%% md\n"
    }
   }
  }
 ],
 "metadata": {
  "kernelspec": {
   "display_name": "Python 3",
   "language": "python",
   "name": "python3"
  },
  "language_info": {
   "codemirror_mode": {
    "name": "ipython",
    "version": 2
   },
   "file_extension": ".py",
   "mimetype": "text/x-python",
   "name": "python",
   "nbconvert_exporter": "python",
   "pygments_lexer": "ipython2",
   "version": "2.7.6"
  }
 },
 "nbformat": 4,
 "nbformat_minor": 0
}